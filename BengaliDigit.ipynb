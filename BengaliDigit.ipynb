{
  "nbformat": 4,
  "nbformat_minor": 0,
  "metadata": {
    "colab": {
      "name": "BengaliDigit.ipynb",
      "provenance": [],
      "collapsed_sections": [],
      "authorship_tag": "ABX9TyNLw9M4Fqf4lGWezTxjeFCn",
      "include_colab_link": true
    },
    "kernelspec": {
      "name": "python3",
      "display_name": "Python 3"
    },
    "accelerator": "GPU"
  },
  "cells": [
    {
      "cell_type": "markdown",
      "metadata": {
        "id": "view-in-github",
        "colab_type": "text"
      },
      "source": [
        "<a href=\"https://colab.research.google.com/github/Sirsho1997/BengaliDigits/blob/master/BengaliDigit.ipynb\" target=\"_parent\"><img src=\"https://colab.research.google.com/assets/colab-badge.svg\" alt=\"Open In Colab\"/></a>"
      ]
    },
    {
      "cell_type": "markdown",
      "metadata": {
        "id": "WdoDbKZOes-Q",
        "colab_type": "text"
      },
      "source": [
        "# **Importing the essential python Libraries**"
      ]
    },
    {
      "cell_type": "code",
      "metadata": {
        "id": "PA2WS7fke8vn",
        "colab_type": "code",
        "colab": {}
      },
      "source": [
        "import tensorflow as tf\n",
        "from tensorflow import keras\n",
        "import tensorflow_datasets as tfds\n",
        "import numpy as np\n",
        "from tensorflow.keras import datasets, layers, models\n",
        "import matplotlib.pyplot as plt"
      ],
      "execution_count": 68,
      "outputs": []
    },
    {
      "cell_type": "markdown",
      "metadata": {
        "id": "fznTFWu4fEOx",
        "colab_type": "text"
      },
      "source": [
        "# **Loading the CMATERdb  dataset**\n",
        "\n",
        "CMATERdb is the pattern recognition database repository created at the 'Center for Microprocessor Applications for Training Education and Research' (CMATER) research laboratory, Jadavpur University, Kolkata 700032, INDIA. This database is free for all non-commercial uses.\n",
        "\n",
        "It is a balanced dataset of total 6000 Bangla numerals (32x32 RGB coloured, 6000 images), each having 600 images per class (per digit)."
      ]
    },
    {
      "cell_type": "code",
      "metadata": {
        "id": "HOPDhrhv_WE_",
        "colab_type": "code",
        "colab": {}
      },
      "source": [
        "#Loading the dataset\n",
        "(train_x,train_y),(test_x,test_y) = tfds.as_numpy(tfds.load('cmaterdb',split=['train','test'],\n",
        "                                                        batch_size=-1,as_supervised=True,))"
      ],
      "execution_count": 69,
      "outputs": []
    },
    {
      "cell_type": "markdown",
      "metadata": {
        "id": "NfUs-hMcsIKC",
        "colab_type": "text"
      },
      "source": [
        "Loading the dataset returns four NumPy arrays:\n",
        "\n",
        "*   The train_x and train_y arrays are the training set—the data the model uses to learn.\n",
        "*   The model is tested against the test set, the test_x, and test_y arrays.\n",
        "\n",
        "The images are 32x32x3 NumPy arrays, with pixel values ranging from 0 to 255. The labels are an array of integers, ranging from 0 to 9. These correspond to the digit the image represents:"
      ]
    },
    {
      "cell_type": "markdown",
      "metadata": {
        "id": "3qOsl1UzgOBz",
        "colab_type": "text"
      },
      "source": [
        "Now let us assign classnames to each of the 10 digits.\n",
        "\n",
        "Each image is mapped to a single class. "
      ]
    },
    {
      "cell_type": "code",
      "metadata": {
        "id": "dEhS_hFSiH2p",
        "colab_type": "code",
        "colab": {}
      },
      "source": [
        "classes = ['0','1','2','3','4','5','6','7','8','9']"
      ],
      "execution_count": 70,
      "outputs": []
    },
    {
      "cell_type": "markdown",
      "metadata": {
        "id": "6O_c0DXVs8jI",
        "colab_type": "text"
      },
      "source": [
        "# **Preprocess the data**\n",
        "\n",
        "Each pixel can take any value between 0-255, So it would be wise to normalize the pixel values."
      ]
    },
    {
      "cell_type": "code",
      "metadata": {
        "id": "DlIDjvtptEhe",
        "colab_type": "code",
        "colab": {}
      },
      "source": [
        "# Normalize pixel values to be between 0 and 1\n",
        "train_x= train_x / 255.0\n",
        "test_x= test_x / 255.0"
      ],
      "execution_count": 71,
      "outputs": []
    },
    {
      "cell_type": "markdown",
      "metadata": {
        "id": "qo4dqYdjtyI8",
        "colab_type": "text"
      },
      "source": [
        "**Looking at one training example**"
      ]
    },
    {
      "cell_type": "code",
      "metadata": {
        "id": "kYfpqGJ-UDj2",
        "colab_type": "code",
        "colab": {
          "base_uri": "https://localhost:8080/",
          "height": 280
        },
        "outputId": "6d2ab655-4d7a-46cf-9b18-7941ceafb242"
      },
      "source": [
        "#Look at one training example\n",
        "\n",
        "index = 0  \n",
        "\n",
        "plt.imshow(train_x[index] ,cmap=plt.cm.binary)\n",
        "plt.xlabel(classes[train_y[index]])\n",
        "plt.show()"
      ],
      "execution_count": 74,
      "outputs": [
        {
          "output_type": "display_data",
          "data": {
            "image/png": "[encoded data removed]",
            "text/plain": [
              "<Figure size 432x288 with 1 Axes>"
            ]
          },
          "metadata": {
            "tags": [],
            "needs_background": "light"
          }
        }
      ]
    },
    {
      "cell_type": "markdown",
      "metadata": {
        "id": "bRiTojUQtPSe",
        "colab_type": "text"
      },
      "source": [
        "# **Build the model**\n",
        "\n",
        "Building the neural network requires configuring the layers of the model, then compiling the model. The basic building block of a neural network is the layer. Layers extract representations from the data fed into them. Hopefully, these representations are meaningful for the problem at hand."
      ]
    },
    {
      "cell_type": "markdown",
      "metadata": {
        "id": "Vb83_-muhggq",
        "colab_type": "text"
      },
      "source": [
        "**CNN Architecture**\n",
        "\n",
        "A very common architecture for a CNN is a stack of Conv2D and MaxPooling2D layers followed by a few denesly connected layers. The idea is that the stack of convolutional and maxPooling layers extract the features from the image. Then these features are flattened and fed to densly connected layers that determine the class of an image based on the presence of features.\n"
      ]
    },
    {
      "cell_type": "code",
      "metadata": {
        "id": "vhzqgoUfULt5",
        "colab_type": "code",
        "colab": {}
      },
      "source": [
        "#Set up the layers\n",
        "\n",
        "model = models.Sequential()\n",
        "model.add(layers.Conv2D(32, (3, 3), activation='relu', input_shape=(32, 32, 3)))\n",
        "model.add(layers.MaxPooling2D((2, 2)))\n",
        "model.add(layers.Conv2D(64, (3, 3), activation='relu'))\n",
        "model.add(layers.MaxPooling2D((2, 2)))\n",
        "model.add(layers.Conv2D(64, (3, 3), activation='relu'))\n",
        "model.add(layers.Flatten())\n",
        "model.add(layers.Dense(64, activation='relu'))\n",
        "model.add(layers.Dense(10))"
      ],
      "execution_count": 76,
      "outputs": []
    },
    {
      "cell_type": "markdown",
      "metadata": {
        "id": "Y1ahS_eDt_8S",
        "colab_type": "text"
      },
      "source": [
        "# **Compile the model**\n",
        "\n",
        "Before the model is ready for training, it needs a few more settings. \n",
        "\n",
        "*   Loss function —It measures how accurate the model is during training. You want to minimize this function to \"steer\" the model in the right direction.\n",
        "*   Optimizer —It decides how the model is updated based on the data it sees and its loss function.\n",
        "\n",
        "*  Metrics —Used to monitor the training and testing steps. The following example uses accuracy, the fraction of the images that are correctly classified.\n",
        "\n"
      ]
    },
    {
      "cell_type": "code",
      "metadata": {
        "id": "8nTXGzp-UpEl",
        "colab_type": "code",
        "colab": {}
      },
      "source": [
        "#Compile the model\n",
        "model.compile(optimizer='adam',\n",
        "              loss=tf.keras.losses.SparseCategoricalCrossentropy(from_logits=True),\n",
        "              metrics=['accuracy'])\n"
      ],
      "execution_count": 77,
      "outputs": []
    },
    {
      "cell_type": "markdown",
      "metadata": {
        "id": "zCmGvOWsuSpE",
        "colab_type": "text"
      },
      "source": [
        "# **Train the model**\n",
        "\n",
        "Training the neural network model requires the following steps:\n",
        "\n",
        "*   Feed the training data to the model. In this example, the training data is in the train_x and train_y arrays.\n",
        "*   The model learns to associate images and labels.\n",
        "*   The model then makes predictions about a test set—in this example, the test_x array.\n",
        "*   Verify that the predictions match the labels from the test_y array.\n"
      ]
    },
    {
      "cell_type": "code",
      "metadata": {
        "id": "XkqbBOV_uqmV",
        "colab_type": "code",
        "colab": {
          "base_uri": "https://localhost:8080/",
          "height": 1000
        },
        "outputId": "fb23285c-cc89-4f29-c46f-0aa6a919f409"
      },
      "source": [
        "model.fit(train_x, train_y, epochs=45,validation_data=(test_x, test_y))"
      ],
      "execution_count": 78,
      "outputs": [
        {
          "output_type": "stream",
          "text": [
            "Epoch 1/45\n",
            "157/157 [==============================] - 1s 8ms/step - loss: 0.8400 - accuracy: 0.7198 - val_loss: 0.3123 - val_accuracy: 0.8970\n",
            "Epoch 2/45\n",
            "157/157 [==============================] - 1s 8ms/step - loss: 0.2264 - accuracy: 0.9284 - val_loss: 0.1778 - val_accuracy: 0.9460\n",
            "Epoch 3/45\n",
            "157/157 [==============================] - 1s 8ms/step - loss: 0.1249 - accuracy: 0.9592 - val_loss: 0.1339 - val_accuracy: 0.9490\n",
            "Epoch 4/45\n",
            "157/157 [==============================] - 1s 8ms/step - loss: 0.0961 - accuracy: 0.9676 - val_loss: 0.1236 - val_accuracy: 0.9590\n",
            "Epoch 5/45\n",
            "157/157 [==============================] - 1s 8ms/step - loss: 0.0663 - accuracy: 0.9798 - val_loss: 0.1100 - val_accuracy: 0.9660\n",
            "Epoch 6/45\n",
            "157/157 [==============================] - 1s 8ms/step - loss: 0.0499 - accuracy: 0.9844 - val_loss: 0.1055 - val_accuracy: 0.9670\n",
            "Epoch 7/45\n",
            "157/157 [==============================] - 1s 8ms/step - loss: 0.0368 - accuracy: 0.9872 - val_loss: 0.0877 - val_accuracy: 0.9750\n",
            "Epoch 8/45\n",
            "157/157 [==============================] - 1s 8ms/step - loss: 0.0290 - accuracy: 0.9920 - val_loss: 0.0957 - val_accuracy: 0.9720\n",
            "Epoch 9/45\n",
            "157/157 [==============================] - 1s 8ms/step - loss: 0.0248 - accuracy: 0.9912 - val_loss: 0.0903 - val_accuracy: 0.9710\n",
            "Epoch 10/45\n",
            "157/157 [==============================] - 1s 8ms/step - loss: 0.0176 - accuracy: 0.9946 - val_loss: 0.1536 - val_accuracy: 0.9560\n",
            "Epoch 11/45\n",
            "157/157 [==============================] - 1s 8ms/step - loss: 0.0190 - accuracy: 0.9948 - val_loss: 0.1142 - val_accuracy: 0.9670\n",
            "Epoch 12/45\n",
            "157/157 [==============================] - 1s 8ms/step - loss: 0.0059 - accuracy: 0.9982 - val_loss: 0.1029 - val_accuracy: 0.9760\n",
            "Epoch 13/45\n",
            "157/157 [==============================] - 1s 8ms/step - loss: 0.0011 - accuracy: 1.0000 - val_loss: 0.1072 - val_accuracy: 0.9740\n",
            "Epoch 14/45\n",
            "157/157 [==============================] - 1s 8ms/step - loss: 0.0044 - accuracy: 0.9980 - val_loss: 0.1168 - val_accuracy: 0.9690\n",
            "Epoch 15/45\n",
            "157/157 [==============================] - 1s 8ms/step - loss: 0.0413 - accuracy: 0.9864 - val_loss: 0.1168 - val_accuracy: 0.9670\n",
            "Epoch 16/45\n",
            "157/157 [==============================] - 1s 8ms/step - loss: 0.0251 - accuracy: 0.9920 - val_loss: 0.0763 - val_accuracy: 0.9800\n",
            "Epoch 17/45\n",
            "157/157 [==============================] - 1s 8ms/step - loss: 0.0105 - accuracy: 0.9968 - val_loss: 0.1480 - val_accuracy: 0.9670\n",
            "Epoch 18/45\n",
            "157/157 [==============================] - 1s 8ms/step - loss: 0.0100 - accuracy: 0.9964 - val_loss: 0.1134 - val_accuracy: 0.9800\n",
            "Epoch 19/45\n",
            "157/157 [==============================] - 1s 8ms/step - loss: 0.0010 - accuracy: 1.0000 - val_loss: 0.1031 - val_accuracy: 0.9790\n",
            "Epoch 20/45\n",
            "157/157 [==============================] - 1s 8ms/step - loss: 0.0063 - accuracy: 0.9980 - val_loss: 0.1144 - val_accuracy: 0.9780\n",
            "Epoch 21/45\n",
            "157/157 [==============================] - 1s 8ms/step - loss: 6.4293e-04 - accuracy: 1.0000 - val_loss: 0.1174 - val_accuracy: 0.9780\n",
            "Epoch 22/45\n",
            "157/157 [==============================] - 1s 8ms/step - loss: 1.5146e-04 - accuracy: 1.0000 - val_loss: 0.1181 - val_accuracy: 0.9790\n",
            "Epoch 23/45\n",
            "157/157 [==============================] - 1s 8ms/step - loss: 8.0688e-05 - accuracy: 1.0000 - val_loss: 0.1189 - val_accuracy: 0.9790\n",
            "Epoch 24/45\n",
            "157/157 [==============================] - 1s 8ms/step - loss: 6.1356e-05 - accuracy: 1.0000 - val_loss: 0.1220 - val_accuracy: 0.9790\n",
            "Epoch 25/45\n",
            "157/157 [==============================] - 1s 8ms/step - loss: 4.9775e-05 - accuracy: 1.0000 - val_loss: 0.1234 - val_accuracy: 0.9790\n",
            "Epoch 26/45\n",
            "157/157 [==============================] - 1s 8ms/step - loss: 4.1648e-05 - accuracy: 1.0000 - val_loss: 0.1248 - val_accuracy: 0.9790\n",
            "Epoch 27/45\n",
            "157/157 [==============================] - 1s 8ms/step - loss: 3.5098e-05 - accuracy: 1.0000 - val_loss: 0.1264 - val_accuracy: 0.9780\n",
            "Epoch 28/45\n",
            "157/157 [==============================] - 1s 8ms/step - loss: 3.0132e-05 - accuracy: 1.0000 - val_loss: 0.1272 - val_accuracy: 0.9780\n",
            "Epoch 29/45\n",
            "157/157 [==============================] - 1s 8ms/step - loss: 2.6339e-05 - accuracy: 1.0000 - val_loss: 0.1291 - val_accuracy: 0.9780\n",
            "Epoch 30/45\n",
            "157/157 [==============================] - 1s 8ms/step - loss: 2.3040e-05 - accuracy: 1.0000 - val_loss: 0.1298 - val_accuracy: 0.9780\n",
            "Epoch 31/45\n",
            "157/157 [==============================] - 1s 8ms/step - loss: 2.0341e-05 - accuracy: 1.0000 - val_loss: 0.1308 - val_accuracy: 0.9780\n",
            "Epoch 32/45\n",
            "157/157 [==============================] - 1s 8ms/step - loss: 1.8054e-05 - accuracy: 1.0000 - val_loss: 0.1321 - val_accuracy: 0.9780\n",
            "Epoch 33/45\n",
            "157/157 [==============================] - 1s 8ms/step - loss: 1.6256e-05 - accuracy: 1.0000 - val_loss: 0.1330 - val_accuracy: 0.9780\n",
            "Epoch 34/45\n",
            "157/157 [==============================] - 1s 8ms/step - loss: 1.4511e-05 - accuracy: 1.0000 - val_loss: 0.1340 - val_accuracy: 0.9780\n",
            "Epoch 35/45\n",
            "157/157 [==============================] - 1s 8ms/step - loss: 1.3098e-05 - accuracy: 1.0000 - val_loss: 0.1346 - val_accuracy: 0.9780\n",
            "Epoch 36/45\n",
            "157/157 [==============================] - 1s 8ms/step - loss: 1.1804e-05 - accuracy: 1.0000 - val_loss: 0.1361 - val_accuracy: 0.9770\n",
            "Epoch 37/45\n",
            "157/157 [==============================] - 1s 8ms/step - loss: 1.0635e-05 - accuracy: 1.0000 - val_loss: 0.1372 - val_accuracy: 0.9770\n",
            "Epoch 38/45\n",
            "157/157 [==============================] - 1s 8ms/step - loss: 9.6242e-06 - accuracy: 1.0000 - val_loss: 0.1382 - val_accuracy: 0.9770\n",
            "Epoch 39/45\n",
            "157/157 [==============================] - 1s 8ms/step - loss: 8.7013e-06 - accuracy: 1.0000 - val_loss: 0.1389 - val_accuracy: 0.9770\n",
            "Epoch 40/45\n",
            "157/157 [==============================] - 1s 8ms/step - loss: 7.9631e-06 - accuracy: 1.0000 - val_loss: 0.1399 - val_accuracy: 0.9770\n",
            "Epoch 41/45\n",
            "157/157 [==============================] - 1s 8ms/step - loss: 7.1902e-06 - accuracy: 1.0000 - val_loss: 0.1409 - val_accuracy: 0.9770\n",
            "Epoch 42/45\n",
            "157/157 [==============================] - 1s 8ms/step - loss: 6.5898e-06 - accuracy: 1.0000 - val_loss: 0.1419 - val_accuracy: 0.9770\n",
            "Epoch 43/45\n",
            "157/157 [==============================] - 1s 8ms/step - loss: 6.0508e-06 - accuracy: 1.0000 - val_loss: 0.1428 - val_accuracy: 0.9770\n",
            "Epoch 44/45\n",
            "157/157 [==============================] - 1s 8ms/step - loss: 5.5659e-06 - accuracy: 1.0000 - val_loss: 0.1435 - val_accuracy: 0.9770\n",
            "Epoch 45/45\n",
            "157/157 [==============================] - 1s 8ms/step - loss: 5.0541e-06 - accuracy: 1.0000 - val_loss: 0.1440 - val_accuracy: 0.9770\n"
          ],
          "name": "stdout"
        },
        {
          "output_type": "execute_result",
          "data": {
            "text/plain": [
              "<tensorflow.python.keras.callbacks.History at 0x7f3ca494c0f0>"
            ]
          },
          "metadata": {
            "tags": []
          },
          "execution_count": 78
        }
      ]
    },
    {
      "cell_type": "markdown",
      "metadata": {
        "id": "MuQ3L2AZrg1X",
        "colab_type": "text"
      },
      "source": [
        "As the model trains, the loss and accuracy metrics are displayed. This model reaches an accuracy of about 0.97 (or 97%) on the training data."
      ]
    },
    {
      "cell_type": "markdown",
      "metadata": {
        "id": "gtvmPW2mrpvW",
        "colab_type": "text"
      },
      "source": [
        "# **Evaluate accuracy**\n",
        "\n",
        "Next, comparing how the model performs on the test dataset"
      ]
    },
    {
      "cell_type": "code",
      "metadata": {
        "id": "g5gPLRbGH-cd",
        "colab_type": "code",
        "colab": {
          "base_uri": "https://localhost:8080/",
          "height": 51
        },
        "outputId": "378d7117-6d06-429f-84e5-f60004684784"
      },
      "source": [
        "test_loss, test_accuracy = model.evaluate(test_x,  test_y, verbose=2)\n",
        "print(\"Accuracy : \",test_accuracy*100,\"%\")"
      ],
      "execution_count": 82,
      "outputs": [
        {
          "output_type": "stream",
          "text": [
            "32/32 - 0s - loss: 0.1440 - accuracy: 0.9770\n",
            "Accuracy :  97.69999980926514 %\n"
          ],
          "name": "stdout"
        }
      ]
    },
    {
      "cell_type": "markdown",
      "metadata": {
        "id": "S4J-wxFcu5UN",
        "colab_type": "text"
      },
      "source": [
        "# **Make predictions** \n",
        "\n",
        "With the model trained, one can use it to make predictions about some images. The model's linear outputs, logits. Attach a softmax layer to convert the logits to probabilities, which are easier to interpret."
      ]
    },
    {
      "cell_type": "code",
      "metadata": {
        "id": "siZnDw6IIbJZ",
        "colab_type": "code",
        "colab": {}
      },
      "source": [
        "probability_of_model = tf.keras.Sequential([model,tf.keras.layers.Softmax()])\n",
        "predictions = probability_model.predict(test_x)"
      ],
      "execution_count": 89,
      "outputs": []
    },
    {
      "cell_type": "markdown",
      "metadata": {
        "id": "G8wc6iUMvH6u",
        "colab_type": "text"
      },
      "source": [
        "# **Plotting several images along with their predictions**\n",
        "\n",
        "\n",
        "Now plotting several images with their predictions. Note that the model can be wrong even when very confident."
      ]
    },
    {
      "cell_type": "code",
      "metadata": {
        "id": "5dZxeg7zmN-g",
        "colab_type": "code",
        "colab": {}
      },
      "source": [
        "def plottingImage(i, predictions,label, img):\n",
        "  predictions, label, img = predictions,label[i], img[i]\n",
        "  plt.grid(False)\n",
        "  plt.xticks([])\n",
        "  plt.yticks([])\n",
        "\n",
        "  plt.imshow(img, cmap=plt.cm.binary)\n",
        "\n",
        "  predicted_label = np.argmax(predictions)\n",
        "  if predicted_label == label:\n",
        "    color = 'green'\n",
        "  else:\n",
        "    color = 'red'\n",
        "\n",
        "  plt.xlabel(\"{} {:2.0f}% ({})\".format(class_names[predicted_label],\n",
        "                                100*np.max(predictions),\n",
        "                                class_names[label]),\n",
        "                                color=color)"
      ],
      "execution_count": 90,
      "outputs": []
    },
    {
      "cell_type": "code",
      "metadata": {
        "id": "-ZbaMF7tIRkk",
        "colab_type": "code",
        "colab": {}
      },
      "source": [
        "\n",
        "def plottingYValue(i, predictions,label):\n",
        "  predictions,label = predictions,label[i]\n",
        "  plt.grid(False)\n",
        "  plt.xticks(range(10))\n",
        "  plt.yticks([])\n",
        "  thisplot = plt.bar(range(10), predictions, color=\"#777777\")\n",
        "  plt.ylim([0, 1])\n",
        "  predicted_label = np.argmax(predictions)\n",
        "\n",
        "  thisplot[predicted_label].set_color('red')\n",
        "  thisplot[label].set_color('green')"
      ],
      "execution_count": 92,
      "outputs": []
    },
    {
      "cell_type": "code",
      "metadata": {
        "id": "Z29NpE4SI4VA",
        "colab_type": "code",
        "colab": {
          "base_uri": "https://localhost:8080/",
          "height": 729
        },
        "outputId": "9c845377-77fb-46ec-f85b-01221b2c3d69"
      },
      "source": [
        "# Plot the first X test images, their predicted labels, and the true labels.\n",
        "# Color correct predictions in blue and incorrect predictions in red.\n",
        "num_rows = 5\n",
        "num_cols = 3\n",
        "num_images = num_rows*num_cols\n",
        "plt.figure(figsize=(2*2*num_cols, 2*num_rows))\n",
        "for i in range(num_images):\n",
        "  plt.subplot(num_rows, 2*num_cols, 2*i+1)\n",
        "  plottingImage(i, predictions[i], test_y, test_x)\n",
        "  plt.subplot(num_rows, 2*num_cols, 2*i+2)\n",
        "  plottingYValue(i, predictions[i], test_y)\n",
        "plt.tight_layout()\n",
        "plt.show()"
      ],
      "execution_count": 93,
      "outputs": [
        {
          "output_type": "display_data",
          "data": {
            "image/png": "[encoded data removed]",
            "text/plain": [
              "<Figure size 864x720 with 30 Axes>"
            ]
          },
          "metadata": {
            "tags": [],
            "needs_background": "light"
          }
        }
      ]
    }
  ]
}